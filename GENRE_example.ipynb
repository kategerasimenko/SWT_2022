{
  "nbformat": 4,
  "nbformat_minor": 0,
  "metadata": {
    "colab": {
      "provenance": []
    },
    "kernelspec": {
      "name": "python3",
      "display_name": "Python 3"
    },
    "language_info": {
      "name": "python"
    },
    "accelerator": "GPU",
    "gpuClass": "standard"
  },
  "cells": [
    {
      "cell_type": "markdown",
      "source": [
        "Papers: [GENRE](https://arxiv.org/abs/2010.00904), [mGENRE](https://arxiv.org/abs/2103.12528)\n",
        "\n",
        "Code: [Github](https://github.com/facebookresearch/GENRE)"
      ],
      "metadata": {
        "id": "Ta-PCByZCbQl"
      }
    },
    {
      "cell_type": "markdown",
      "source": [
        "# Download models"
      ],
      "metadata": {
        "id": "01kti1WV9GHO"
      }
    },
    {
      "cell_type": "code",
      "source": [
        "! wget https://dl.fbaipublicfiles.com/GENRE/fairseq_multilingual_entity_disambiguation.tar.gz\n",
        "! tar -xvf fairseq_multilingual_entity_disambiguation.tar.gz\n",
        "\n",
        "! wget http://dl.fbaipublicfiles.com/GENRE/fairseq_e2e_entity_linking_aidayago.tar.gz\n",
        "! tar -xvf fairseq_e2e_entity_linking_aidayago.tar.gz\n",
        "\n",
        "! wget http://dl.fbaipublicfiles.com/GENRE/titles_lang_all105_marisa_trie_with_redirect.pkl"
      ],
      "metadata": {
        "id": "178hsqGc8Kwz"
      },
      "execution_count": null,
      "outputs": []
    },
    {
      "cell_type": "markdown",
      "source": [
        "# Install and debug packages\n",
        "\n",
        "Issues that are required to fix are described in [this Github issue](https://github.com/facebookresearch/GENRE/issues/66)."
      ],
      "metadata": {
        "id": "KgbC0H_W9JgJ"
      }
    },
    {
      "cell_type": "code",
      "source": [
        "# remove locally installed `examples` package to avoid import error\n",
        "! rm -rf /usr/local/lib/python3.7/dist-packages/examples\n",
        "\n",
        "! git clone --branch fixing_prefix_allowed_tokens_fn https://github.com/nicola-decao/fairseq\n",
        "\n",
        "# remove the bugged lines in this fairseq version\n",
        "! sed -i -e '26,27d' /content/fairseq/fairseq/registry.py\n",
        "\n",
        "! cd fairseq && pip install  ./\n",
        "\n",
        "# further path fixes\n",
        "! mkdir -p examples_dir\n",
        "! cp -r /content/fairseq/examples/ /content/examples_dir\n",
        "! cp -r /content/fairseq/fairseq/models/speech_to_text/modules /usr/local/lib/python3.7/dist-packages/fairseq/models/speech_to_text\n",
        "\n",
        "!git clone https://github.com/facebookresearch/GENRE.git\n",
        "! cd GENRE && pip install ./\n",
        "\n",
        "! pip install sentencepiece marisa_trie"
      ],
      "metadata": {
        "id": "YEbqO_mu8RHa"
      },
      "execution_count": null,
      "outputs": []
    },
    {
      "cell_type": "code",
      "source": [
        "import sys\n",
        "sys.path.append('/content/GENRE/genre')\n",
        "sys.path.append('/content/examples_dir')"
      ],
      "metadata": {
        "id": "mSD-g5TZ-mUd"
      },
      "execution_count": 3,
      "outputs": []
    },
    {
      "cell_type": "markdown",
      "source": [
        "# Run disambiguation model"
      ],
      "metadata": {
        "id": "nAOm_-bH9qFc"
      }
    },
    {
      "cell_type": "code",
      "source": [
        "import pickle\n",
        "\n",
        "from fairseq_model import mGENRE\n",
        "from genre.trie import Trie, MarisaTrie"
      ],
      "metadata": {
        "id": "YIyljvLQ9vYh"
      },
      "execution_count": 4,
      "outputs": []
    },
    {
      "cell_type": "code",
      "source": [
        "MGENRE_MODEL = mGENRE.from_pretrained(\"fairseq_multilingual_entity_disambiguation\").eval()"
      ],
      "metadata": {
        "id": "uYy6SYpa8cp5"
      },
      "execution_count": 5,
      "outputs": []
    },
    {
      "cell_type": "code",
      "source": [
        "# memory efficient but slower prefix tree (trie) -- it is implemented with `marisa_trie`\n",
        "with open(\"titles_lang_all105_marisa_trie_with_redirect.pkl\", \"rb\") as f:\n",
        "    TRIE = pickle.load(f)"
      ],
      "metadata": {
        "id": "I3z4JVyg80Pa"
      },
      "execution_count": 6,
      "outputs": []
    },
    {
      "cell_type": "code",
      "source": [
        "texts = [\n",
        "    '[START] Alexander [END] werd geboren in Pella, in Macedonië, 21 juli 356 v.Chr. Hij was de zoon van de Macedonische koning Philippus II, van de dynastie van de Argeaden.',\n",
        "    'Alexander werd geboren in Pella, in [START] Macedonië [END] , 21 juli 356 v.Chr. Hij was de zoon van de Macedonische koning Philippus II, van de dynastie van de Argeaden.',\n",
        "    'Alexander werd geboren in Pella, in Macedonië, 21 juli 356 v.Chr. Hij was de zoon van de Macedonische koning [START] Philippus II [END] , van de dynastie van de Argeaden.'\n",
        "]"
      ],
      "metadata": {
        "id": "fnwaBGtr96Au"
      },
      "execution_count": 7,
      "outputs": []
    },
    {
      "cell_type": "code",
      "source": [
        "%%time\n",
        "\n",
        "predictions = MGENRE_MODEL.sample(\n",
        "  texts,\n",
        "  prefix_allowed_tokens_fn=lambda batch_id, sent: [\n",
        "      e for e in TRIE.get(sent.tolist()) \n",
        "      if e < len(MGENRE_MODEL.task.target_dictionary)\n",
        "  ]\n",
        ")"
      ],
      "metadata": {
        "colab": {
          "base_uri": "https://localhost:8080/"
        },
        "id": "GdoLYGCfIbGG",
        "outputId": "868008ba-43f9-452a-c2e7-04d9e8f318b4"
      },
      "execution_count": 8,
      "outputs": [
        {
          "output_type": "stream",
          "name": "stderr",
          "text": [
            "/usr/local/lib/python3.7/dist-packages/fairseq/search.py:205: UserWarning: __floordiv__ is deprecated, and its behavior will change in a future version of pytorch. It currently rounds toward 0 (like the 'trunc' function NOT 'floor'). This results in incorrect rounding for negative values. To keep the current behavior, use torch.div(a, b, rounding_mode='trunc'), or for actual floor division, use torch.div(a, b, rounding_mode='floor').\n",
            "  beams_buf = indices_buf // vocab_size\n",
            "/usr/local/lib/python3.7/dist-packages/fairseq/sequence_generator.py:659: UserWarning: __floordiv__ is deprecated, and its behavior will change in a future version of pytorch. It currently rounds toward 0 (like the 'trunc' function NOT 'floor'). This results in incorrect rounding for negative values. To keep the current behavior, use torch.div(a, b, rounding_mode='trunc'), or for actual floor division, use torch.div(a, b, rounding_mode='floor').\n",
            "  unfin_idx = idx // beam_size\n"
          ]
        },
        {
          "output_type": "stream",
          "name": "stdout",
          "text": [
            "CPU times: user 8.89 s, sys: 142 ms, total: 9.04 s\n",
            "Wall time: 9.21 s\n"
          ]
        }
      ]
    },
    {
      "cell_type": "code",
      "source": [
        "predictions"
      ],
      "metadata": {
        "colab": {
          "base_uri": "https://localhost:8080/"
        },
        "id": "E4fbwey8KAOV",
        "outputId": "a02cfdbb-7741-401f-ba15-def64d48878c"
      },
      "execution_count": 9,
      "outputs": [
        {
          "output_type": "execute_result",
          "data": {
            "text/plain": [
              "[[{'text': 'Alexander de Grote >> nl', 'score': tensor(-0.1351)},\n",
              "  {'text': 'Alexander I van Macedonië >> nl', 'score': tensor(-0.4823)},\n",
              "  {'text': 'Alexander van Macedonië >> nl', 'score': tensor(-0.5138)},\n",
              "  {'text': 'Alexander II van Macedonië >> nl', 'score': tensor(-0.6219)},\n",
              "  {'text': 'Alexander I van Makedonië >> af', 'score': tensor(-2.4315)}],\n",
              " [{'text': 'Macedonië (oudheid) >> nl', 'score': tensor(-0.0815)},\n",
              "  {'text': 'Macedonië (Romeinse provincie) >> nl', 'score': tensor(-0.4778)},\n",
              "  {'text': 'Macedonië (regio) >> nl', 'score': tensor(-0.4992)},\n",
              "  {'text': 'Macedonië (Griekenland) >> nl', 'score': tensor(-0.5649)},\n",
              "  {'text': 'Noord-Macedonië >> nl', 'score': tensor(-0.8881)}],\n",
              " [{'text': 'Philippus II van Macedonië >> nl', 'score': tensor(-0.0894)},\n",
              "  {'text': 'Philippos II van Macedonië >> nl', 'score': tensor(-0.6956)},\n",
              "  {'text': 'Philippus I van Macedonië >> nl', 'score': tensor(-0.8157)},\n",
              "  {'text': 'Philippe II de Macédoine >> fr', 'score': tensor(-0.8543)},\n",
              "  {'text': 'Philippus II van Macedonie >> nl', 'score': tensor(-1.2068)}]]"
            ]
          },
          "metadata": {},
          "execution_count": 9
        }
      ]
    },
    {
      "cell_type": "markdown",
      "source": [
        "# Run end-to-end EL model (for English only)"
      ],
      "metadata": {
        "id": "uDtW8joUB1SZ"
      }
    },
    {
      "cell_type": "code",
      "source": [
        "from fairseq_model import GENRE\n",
        "from genre.entity_linking import get_end_to_end_prefix_allowed_tokens_fn_fairseq as get_prefix_allowed_tokens_fn\n",
        "from genre.utils import get_entity_spans_fairseq as get_entity_spans"
      ],
      "metadata": {
        "id": "Y7FsfXo6CL9D"
      },
      "execution_count": 10,
      "outputs": []
    },
    {
      "cell_type": "code",
      "source": [
        "GENRE_MODEL = GENRE.from_pretrained(\"fairseq_e2e_entity_linking_aidayago\").eval()"
      ],
      "metadata": {
        "id": "foYC08-KCQPL"
      },
      "execution_count": null,
      "outputs": []
    },
    {
      "cell_type": "code",
      "source": [
        "%%time\n",
        "\n",
        "sentences = [\n",
        "    \"Alexander III was born in Pella, the capital of the Kingdom of Macedon, on the sixth day of the ancient Greek month of Hekatombaion.\"\n",
        "]\n",
        "\n",
        "# bug: need to prepend a space before a sentence\n",
        "sentences = [f' {sent}' for sent in sentences]\n",
        "\n",
        "prefix_allowed_tokens_fn = get_prefix_allowed_tokens_fn(GENRE_MODEL, sentences)\n",
        "\n",
        "predictions = GENRE_MODEL.sample(\n",
        "    sentences,\n",
        "    prefix_allowed_tokens_fn=prefix_allowed_tokens_fn,\n",
        ")"
      ],
      "metadata": {
        "colab": {
          "base_uri": "https://localhost:8080/"
        },
        "id": "m9-9QZbTJs21",
        "outputId": "1eae00cb-878d-46bb-fdb5-1f9dd5f1f878"
      },
      "execution_count": 12,
      "outputs": [
        {
          "output_type": "stream",
          "name": "stderr",
          "text": [
            "/usr/local/lib/python3.7/dist-packages/fairseq/search.py:205: UserWarning: __floordiv__ is deprecated, and its behavior will change in a future version of pytorch. It currently rounds toward 0 (like the 'trunc' function NOT 'floor'). This results in incorrect rounding for negative values. To keep the current behavior, use torch.div(a, b, rounding_mode='trunc'), or for actual floor division, use torch.div(a, b, rounding_mode='floor').\n",
            "  beams_buf = indices_buf // vocab_size\n"
          ]
        },
        {
          "output_type": "stream",
          "name": "stdout",
          "text": [
            "CPU times: user 12.1 s, sys: 91.2 ms, total: 12.1 s\n",
            "Wall time: 12.1 s\n"
          ]
        },
        {
          "output_type": "stream",
          "name": "stderr",
          "text": [
            "/usr/local/lib/python3.7/dist-packages/fairseq/sequence_generator.py:659: UserWarning: __floordiv__ is deprecated, and its behavior will change in a future version of pytorch. It currently rounds toward 0 (like the 'trunc' function NOT 'floor'). This results in incorrect rounding for negative values. To keep the current behavior, use torch.div(a, b, rounding_mode='trunc'), or for actual floor division, use torch.div(a, b, rounding_mode='floor').\n",
            "  unfin_idx = idx // beam_size\n"
          ]
        }
      ]
    },
    {
      "cell_type": "code",
      "source": [
        "predictions"
      ],
      "metadata": {
        "colab": {
          "base_uri": "https://localhost:8080/"
        },
        "id": "je0bX8G4CUmL",
        "outputId": "f4ac98ed-ddb1-4661-b91c-5d94f5f76e39"
      },
      "execution_count": 13,
      "outputs": [
        {
          "output_type": "execute_result",
          "data": {
            "text/plain": [
              "[[{'text': ' { Alexander III } [ Alexander III of Macedon ] was born in { Pella } [ Pella ], the capital of the { Kingdom of Macedon } [ Macedonia (ancient kingdom) ], on the sixth day of the ancient { Greek } [ Greece ] month of Hekatombaion.',\n",
              "   'score': tensor(-0.6428)},\n",
              "  {'text': ' { Alexander III } [ Alexander III of Macedon ] was born in { Pella } [ Pella ], the capital of the { Kingdom of Macedon } [ Macedonia (ancient kingdom) ], on the sixth day of the { ancient Greek } [ Ancient Greece ] month of Hekatombaion.',\n",
              "   'score': tensor(-0.6429)},\n",
              "  {'text': ' { Alexander } [ Alexander III of Macedon ] III was born in { Pella } [ Pella ], the capital of the { Kingdom of Macedon } [ Macedonia (ancient kingdom) ], on the sixth day of the ancient { Greek } [ Greece ] month of Hekatombaion.',\n",
              "   'score': tensor(-0.6510)},\n",
              "  {'text': ' { Alexander } [ Alexander III of Macedon ] III was born in { Pella } [ Pella ], the capital of the { Kingdom of Macedon } [ Macedonia (ancient kingdom) ], on the sixth day of the { ancient Greek } [ Ancient Greece ] month of Hekatombaion.',\n",
              "   'score': tensor(-0.6526)},\n",
              "  {'text': ' { Alexander III } [ Alexander III of Macedon ] was born in { Pella } [ Pella ], the capital of the { Kingdom of Macedon } [ Macedonia (ancient kingdom) ], on the sixth day of the { ancient Greek } [ Ancient Greek ] month of Hekatombaion.',\n",
              "   'score': tensor(-0.6529)}]]"
            ]
          },
          "metadata": {},
          "execution_count": 13
        }
      ]
    },
    {
      "cell_type": "code",
      "source": [],
      "metadata": {
        "id": "CnfEBm26C4tV"
      },
      "execution_count": null,
      "outputs": []
    }
  ]
}